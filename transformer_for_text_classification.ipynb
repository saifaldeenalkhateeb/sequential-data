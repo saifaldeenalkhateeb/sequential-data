{
  "nbformat": 4,
  "nbformat_minor": 0,
  "metadata": {
    "colab": {
      "name": "transformer_for_text_classification.ipynb",
      "provenance": [],
      "collapsed_sections": []
    },
    "kernelspec": {
      "name": "python3",
      "display_name": "Python 3"
    },
    "language_info": {
      "name": "python"
    },
    "accelerator": "GPU"
  },
  "cells": [
    {
      "cell_type": "code",
      "metadata": {
        "id": "920niWiyahuw"
      },
      "source": [
        "from enum import Enum\n",
        "from termcolor import colored\n",
        "import os, pathlib, shutil, random\n",
        "\n",
        "from matplotlib import pyplot as plt\n",
        "import numpy\n",
        "import json \n",
        "from json import JSONEncoder, JSONDecoder\n",
        "\n",
        "import tensorflow as tf\n",
        "from tensorflow import keras\n",
        "from tensorflow.keras import layers\n",
        "from tensorflow.keras.layers import MultiHeadAttention\n",
        "from tensorflow.keras.layers.experimental.preprocessing import TextVectorization"
      ],
      "execution_count": null,
      "outputs": []
    },
    {
      "cell_type": "code",
      "metadata": {
        "id": "qXCKlPuqdz32"
      },
      "source": [
        "vocab_size = 20000\n",
        "max_tokens = vocab_size\n",
        "embed_dim = 256\n",
        "num_heads = 2\n",
        "dense_dim = 32\n",
        "sequence_length = 600\n",
        "batch_size=128"
      ],
      "execution_count": null,
      "outputs": []
    },
    {
      "cell_type": "markdown",
      "metadata": {
        "id": "xcYxVznnjo2T"
      },
      "source": [
        "BatchNormalization doesn’t work well for sequence data. Instead, we’re using the LayerNormalization layer, which normalizes each sequence independently from other sequences in the batch. Like this, in NumPy-like pseudocode:\n",
        "\n",
        "```\n",
        "def layer_normalization(batch_of_sequences):\n",
        "    mean = np.mean(batch_of_sequences, keepdims=True, axis=-1)\n",
        "    variance = np.var(batch_of_sequences, keepdims=True, axis=-1\n",
        "    return (batch_of_sequences - mean) / variance\n",
        "```\n",
        "\n",
        "\n",
        "```\n",
        "def batch_normalization(batch_of_images):\n",
        "    mean = np.mean(batch_of_images, keepdims=True, axis=(0, 1, 2))\n",
        "    variance = np.var(batch_of_images, keepdims=True, axis=(0, 1, 2))\n",
        "    return (batch_of_images - mean) / variance\n",
        "```\n",
        "\n",
        "While BatchNormalization collects information from many samples to obtain accurate statistics for the features means and variances, LayerNormalization only pools data within each sequence separately, which is more appropriate for sequence data\n",
        "\n"
      ]
    },
    {
      "cell_type": "code",
      "metadata": {
        "id": "Yn-LerH_d71F"
      },
      "source": [
        "class TransformerEncoder(layers.Layer):\n",
        "    def __init__(self, embed_dim, dense_dim, num_heads, **kwargs):\n",
        "        super().__init__(**kwargs)\n",
        "        self.embed_dim = embed_dim\n",
        "        self.dense_dim = dense_dim\n",
        "        self.num_heads = num_heads\n",
        "        self.attention = layers.MultiHeadAttention(\n",
        "            num_heads=num_heads, key_dim=embed_dim)\n",
        "        self.dense_proj = keras.Sequential(\n",
        "            [layers.Dense(dense_dim, activation=\"relu\"),\n",
        "             layers.Dense(embed_dim),]\n",
        "        )\n",
        "        self.layernorm_1 = layers.LayerNormalization()\n",
        "        self.layernorm_2 = layers.LayerNormalization()\n",
        "\n",
        "    def call(self, inputs, mask=None):\n",
        "        if mask is not None:\n",
        "            mask = mask[:, tf.newaxis, :]\n",
        "        attention_output = self.attention(\n",
        "            inputs, inputs, attention_mask=mask)\n",
        "        proj_input = self.layernorm_1(inputs + attention_output)\n",
        "        proj_output = self.dense_proj(proj_input)\n",
        "        return self.layernorm_2(proj_input + proj_output)\n",
        "\n",
        "    def get_config(self):\n",
        "        config = super().get_config()\n",
        "        config.update({\n",
        "            \"embed_dim\": self.embed_dim,\n",
        "            \"num_heads\": self.num_heads,\n",
        "            \"dense_dim\": self.dense_dim,\n",
        "        })\n",
        "        return config"
      ],
      "execution_count": null,
      "outputs": []
    },
    {
      "cell_type": "code",
      "metadata": {
        "id": "5BD0ptvatZbk"
      },
      "source": [
        "class PositionalEmbedding(layers.Layer):\n",
        "    def __init__(self, sequence_length, input_dim, output_dim, **kwargs):\n",
        "        super().__init__(**kwargs)\n",
        "        self.token_embeddings = layers.Embedding(\n",
        "            input_dim=input_dim, output_dim=output_dim)\n",
        "        self.position_embeddings = layers.Embedding(\n",
        "            input_dim=sequence_length, output_dim=output_dim)\n",
        "        self.sequence_length = sequence_length\n",
        "        self.input_dim = input_dim\n",
        "        self.output_dim = output_dim\n",
        "\n",
        "    def call(self, inputs):\n",
        "        length = tf.shape(inputs)[-1]\n",
        "        positions = tf.range(start=0, limit=length, delta=1)\n",
        "        embedded_tokens = self.token_embeddings(inputs)\n",
        "        embedded_positions = self.position_embeddings(positions)\n",
        "        return embedded_tokens + embedded_positions\n",
        "\n",
        "    def compute_mask(self, inputs, mask=None):\n",
        "        return tf.math.not_equal(inputs, 0)\n",
        "\n",
        "    def get_config(self):\n",
        "        config = super().get_config()\n",
        "        config.update({\n",
        "            \"output_dim\": self.output_dim,\n",
        "            \"sequence_length\": self.sequence_length,\n",
        "            \"input_dim\": self.input_dim,\n",
        "        })\n",
        "        return config"
      ],
      "execution_count": null,
      "outputs": []
    },
    {
      "cell_type": "markdown",
      "metadata": {
        "id": "lgCmodvwtcOM"
      },
      "source": [
        "**Using positional encoding to reinject order information**\n",
        "\n",
        "> The idea behind positional encoding is very simple: to give the model access to word order information, we’re going to add to each word embedding the word’s position in the sentence. Our input word embeddings will have two components: the usual word vector, which represents the word independently of any specific context, and a position vector, which represents the position of the word in the current sentence. Hopefully, the model will then figure out how to best leverage this additional information.\n",
        "\n",
        "\n",
        "\n",
        "\n",
        "\n",
        "> The simplest scheme you could come up with would be to concatenate the word’s position to its embedding vector. You’d add a \"position\" axis to the vector, and fill it with 0 for the first word in the sequence, 1 for the second one, and so on.\n",
        "\n",
        "> That may not be ideal, however, because your positions can potentially be very large integers, which will disrupt the range of values in the embedding vector. As you know, neural networks don’t like very large input values, or discrete input distributions.\n",
        "\n",
        "> The original \"Attention is all you need paper\" used an interesting trick to encode word positions: it added to the word embeddings a vector containing values in the range [-1, 1] that varied cyclically depending on the position (it used cosine functions to achieve this). This trick offers a way to uniquely characterize any integer in a large range via of vector of small values. It’s clever, but it’s not what we’re going to use in our case. We’ll do something simpler and more effective: we’ll just learn position embedding vectors, just the same way we learn to embed word indices. We’ll then proceed to add our position embeddings to the corresponding word embeddings, to obtain a position-aware word embedding. This technique is called \"positional embedding\". Let’s implement it:"
      ]
    },
    {
      "cell_type": "code",
      "metadata": {
        "id": "rerGGxJklnOi"
      },
      "source": [
        "class Text_Vectorization(Enum):\n",
        "    def unigram_int():\n",
        "        return TextVectorization(\n",
        "            max_tokens=max_tokens,\n",
        "            output_mode=\"int\",\n",
        "            output_sequence_length=sequence_length,\n",
        "        )\n",
        "    \n",
        "DATA = {\n",
        "        'unigram_int': Text_Vectorization.unigram_int()\n",
        "    }\n",
        "    \n",
        "class TransformerSetting:\n",
        "    def __init__(self,\n",
        "                 text_vectorization: str,\n",
        "                 num_heads: int,\n",
        "                 dense_dim: int,\n",
        "                 sequence_length: int,\n",
        "                 input_dim = 20000, \n",
        "                 output_dim = 256,\n",
        "                 is_using_positional_embedding: bool = False,\n",
        "                 is_using_positional_encoding: bool = False,  \n",
        "                ):\n",
        "      self.text_vectorization = text_vectorization\n",
        "      self.num_heads = num_heads\n",
        "      self.dense_dim = dense_dim\n",
        "      self.sequence_length  = sequence_length \n",
        "      self.input_dim = input_dim\n",
        "      self.output_dim = output_dim\n",
        "      self.is_using_positional_embedding = is_using_positional_embedding\n",
        "      self.is_using_positional_encoding = is_using_positional_encoding\n",
        "          \n",
        "  \n",
        "    def text_vectorization_func(self):\n",
        "      return DATA[self.text_vectorization]\n",
        "    \n",
        "    def name(self):\n",
        "        model_name = \"\"\n",
        "        if self.text_vectorization is not None:\n",
        "          model_name += f\"{self.text_vectorization}_\"\n",
        "        else:\n",
        "            raise ValueError(\"text_vectorization_name musst be specified...\")\n",
        "        model_name+= f\"dense_dim_{self.dense_dim}_\"\n",
        "        model_name+= f\"num_heads_{self.num_heads}_\"\n",
        "        if sequence_length is not None:\n",
        "          model_name += f\"sequence_length_{sequence_length}_\" \n",
        "        model_name+= f\"input_dim_{self.input_dim}_\"\n",
        "        model_name+= f\"output_dim_{self.output_dim}_\"\n",
        "        if self.is_using_positional_embedding:\n",
        "          model_name += \"using_positional_embedding_\"\n",
        "        if self.is_using_positional_encoding:\n",
        "          model_name += \"using_positional_encoding_\"\n",
        "        model_name+= \"transformer_model\"\n",
        "       \n",
        "        return model_name\n",
        "class TransformerSettingEncoder(JSONEncoder):\n",
        "        def default(self, o):\n",
        "            return o.__dict__\n",
        "        \n",
        "\n",
        "def decode_transformer_setting(dct):\n",
        "    return TransformerSetting(\n",
        "        text_vectorization = dct[\"text_vectorization\"],\n",
        "        num_heads = dct[\"num_heads\"],\n",
        "        dense_dim = dct[\"dense_dim\"],\n",
        "        input_dim = dct[\"input_dim\"],\n",
        "        output_dim = dct[\"output_dim\"],\n",
        "        sequence_length  = dct[\"sequence_length\" ],\n",
        "        is_using_positional_embedding = dct[\"is_using_positional_embedding\"],\n",
        "        is_using_positional_encoding = dct[\"is_using_positional_encoding\"])"
      ],
      "execution_count": null,
      "outputs": []
    },
    {
      "cell_type": "code",
      "metadata": {
        "id": "oNKArECDlVn7"
      },
      "source": [
        "class IMDB_REVIEWING_ANALYSIS_WORD_AS_SEQUENCE:\n",
        "    \n",
        "    def __init__(self, setting: TransformerSetting):\n",
        "        self.setting = setting\n",
        "        self.load_datasets()\n",
        "        self.build_validation_directory_and_fill_it()\n",
        "        self.text_vectorization = self.setting.text_vectorization_func()\n",
        "        self.prepaire_datasets()\n",
        "        self.model = self.build_model(setting)\n",
        "\n",
        "    def load_datasets(self):\n",
        "        if not os.path.exists('aclImdb'):\n",
        "          if not os.path.exists('aclImdb_v1.tar.gz'):\n",
        "            !curl -O https://ai.stanford.edu/~amaas/data/sentiment/aclImdb_v1.tar.gz\n",
        "          !tar -xf aclImdb_v1.tar.gz\n",
        "          !rm -r aclImdb/train/unsup\n",
        "        \n",
        "    \n",
        "    def build_validation_directory_and_fill_it(self):\n",
        "        base_dir = pathlib.Path(\"aclImdb\")\n",
        "        val_dir = base_dir / \"val\"\n",
        "        train_dir = base_dir / \"train\"\n",
        "\n",
        "        if not os.path.exists(val_dir):\n",
        "\n",
        "            for category in (\"neg\", \"pos\"):\n",
        "\n",
        "                path = val_dir / category\n",
        "                if not os.path.exists(path):\n",
        "                    os.makedirs(path)\n",
        "\n",
        "                files = os.listdir(train_dir / category)\n",
        "                random.Random(1337).shuffle(files)\n",
        "                num_val_samples = int(0.2 * len(files))\n",
        "                val_files = files[-num_val_samples:]\n",
        "\n",
        "                for fname in val_files:\n",
        "                  #src = train_dir / category / fname\n",
        "                  #dst = val_dir / category / fname\n",
        "                  src = '/content/aclImdb/train/'+category+'/'+fname\n",
        "                  dst =  '/content/aclImdb/val/'+category+'/'\n",
        "                  %mv {src} {dst}\n",
        "\n",
        "    def prepaire_datasets(self):\n",
        "        train_ds = keras.preprocessing.text_dataset_from_directory(\n",
        "            \"aclImdb/train\", batch_size=batch_size\n",
        "        )\n",
        "        val_ds = keras.preprocessing.text_dataset_from_directory(\n",
        "            \"aclImdb/val\", batch_size=batch_size\n",
        "        )\n",
        "        test_ds = keras.preprocessing.text_dataset_from_directory(\n",
        "            \"aclImdb/test\", batch_size=batch_size\n",
        "        )\n",
        "        \n",
        "        text_only_train_ds = train_ds.map(lambda x, y: x)\n",
        "        self.text_vectorization.adapt(text_only_train_ds)\n",
        "        \n",
        "        self.prepaired_train_ds = train_ds.map(lambda x, y: (self.text_vectorization(x), y))\n",
        "        self.prepaired_val_ds = val_ds.map(lambda x, y: (self.text_vectorization(x), y))\n",
        "        self.prepaired_test_ds = test_ds.map(lambda x, y: (self.text_vectorization(x), y))     \n",
        "        \n",
        "    \n",
        "    def set_callbacks(self, callbacks):\n",
        "        self.callbacks = callbacks\n",
        "    \n",
        "    def train_model(self, epochs):\n",
        "        self.history = self.model.fit(\n",
        "            self.prepaired_train_ds.cache(),\n",
        "            validation_data= self.prepaired_val_ds.cache(),\n",
        "            epochs=epochs,\n",
        "            callbacks=self.callbacks)\n",
        "    \n",
        "    def plot_training_curve(self):\n",
        "        plt.plot(self.history.history['accuracy'])\n",
        "        plt.plot(self.history.history['val_accuracy'])\n",
        "        plt.title('using_positional_embedding')\n",
        "        plt.ylabel('accuracy')\n",
        "        plt.xlabel('epoch')\n",
        "        plt.legend(['train', 'val'], loc='upper left')\n",
        "        plt.show()\n",
        "    \n",
        "    def load_model(self, model_name):\n",
        "        self.model = keras.models.load_model(model_name)\n",
        "    \n",
        "    def save_training_curve(self, name):\n",
        "        pass\n",
        "    \n",
        "    def get_test_accuracy(self):\n",
        "        print(f\"Test acc: {self.model.evaluate(self.prepaired_test_ds)[1]:.3f}\")\n",
        "    \n",
        "    def forward(self, text: str):\n",
        "        inputs = keras.Input(shape=(1,), dtype=\"string\")\n",
        "        processed_inputs = self.text_vectorization(inputs)\n",
        "        outputs = self.model(processed_inputs)\n",
        "        inference_model = keras.Model(inputs, outputs)\n",
        "        prepaired_text =  tf.convert_to_tensor([[text],])\n",
        "        return inference_model(prepaired_text)\n",
        "    \n",
        "    def build_model(self, model_setting: TransformerSetting):\n",
        "\n",
        "        inputs = keras.Input(shape=(None,), dtype=\"int64\")\n",
        "        \n",
        "        if self.setting.is_using_positional_embedding:\n",
        "          x = PositionalEmbedding(self.setting.sequence_length, self.setting.input_dim, self.setting.output_dim)(inputs)\n",
        "        elif self.setting.is_using_positional_encoding:\n",
        "          pass\n",
        "        else:\n",
        "          x = layers.Embedding(self.setting.input_dim, self.setting.output_dim)(inputs)\n",
        "        x = TransformerEncoder(self.setting.output_dim, self.setting.dense_dim, self.setting.num_heads)(x)\n",
        "        x = layers.GlobalMaxPooling1D()(x)\n",
        "        x = layers.Dropout(0.5)(x)\n",
        "\n",
        "        outputs = layers.Dense(1, activation=\"sigmoid\")(x)\n",
        "        model = keras.Model(inputs, outputs)\n",
        "        model.compile(optimizer=\"rmsprop\",\n",
        "                      loss=\"binary_crossentropy\",\n",
        "                      metrics=[\"accuracy\"])\n",
        "        return model"
      ],
      "execution_count": null,
      "outputs": []
    },
    {
      "cell_type": "code",
      "metadata": {
        "id": "BlU4JVFivR_K"
      },
      "source": [
        "#with open('settings.json', 'w') as f:\n",
        "#    json.dump(settings, f, indent=4, cls=SettingEncoder)\n",
        "with open(\"transformer_settings.json\") as settings_data:\n",
        "    data = settings_data.read()\n",
        "    settings = json.loads(data, object_hook=decode_transformer_setting)"
      ],
      "execution_count": null,
      "outputs": []
    },
    {
      "cell_type": "code",
      "metadata": {
        "colab": {
          "base_uri": "https://localhost:8080/"
        },
        "id": "UZZRyrl8xThp",
        "outputId": "2a7f0b45-6d6d-4b48-e435-c2651ad66bb9"
      },
      "source": [
        "models = []\n",
        "for setting in settings:\n",
        "    callbacks = [keras.callbacks.ModelCheckpoint(f\"{setting.name()}.keras\", save_best_only=True )]\n",
        "    model = IMDB_REVIEWING_ANALYSIS_WORD_AS_SEQUENCE(setting)\n",
        "    model.set_callbacks(callbacks)\n",
        "    models.append(model)"
      ],
      "execution_count": null,
      "outputs": [
        {
          "output_type": "stream",
          "text": [
            "Found 20000 files belonging to 2 classes.\n",
            "Found 5000 files belonging to 2 classes.\n",
            "Found 25000 files belonging to 2 classes.\n"
          ],
          "name": "stdout"
        }
      ]
    },
    {
      "cell_type": "code",
      "metadata": {
        "colab": {
          "base_uri": "https://localhost:8080/",
          "height": 1000
        },
        "id": "hQBXQ5NOxWgq",
        "outputId": "26d5d9b4-7d06-4d0e-d167-781eae3e1f9c"
      },
      "source": [
        "for model in models:\n",
        "    model.train_model(20)\n",
        "for model in models:\n",
        "    model.plot_training_curve()\n",
        "for model in models:\n",
        "    model.get_test_accuracy()  "
      ],
      "execution_count": null,
      "outputs": [
        {
          "output_type": "stream",
          "text": [
            "Epoch 1/20\n",
            "157/157 [==============================] - 50s 307ms/step - loss: 0.6580 - accuracy: 0.6852 - val_loss: 0.4054 - val_accuracy: 0.7954\n",
            "Epoch 2/20\n",
            "157/157 [==============================] - 42s 269ms/step - loss: 0.2964 - accuracy: 0.8761 - val_loss: 0.3645 - val_accuracy: 0.8510\n",
            "Epoch 3/20\n",
            "157/157 [==============================] - 42s 269ms/step - loss: 0.1970 - accuracy: 0.9226 - val_loss: 0.3115 - val_accuracy: 0.8924\n",
            "Epoch 4/20\n",
            "157/157 [==============================] - 42s 269ms/step - loss: 0.1292 - accuracy: 0.9506 - val_loss: 0.3826 - val_accuracy: 0.8878\n",
            "Epoch 5/20\n",
            "157/157 [==============================] - 42s 268ms/step - loss: 0.0892 - accuracy: 0.9650 - val_loss: 0.4982 - val_accuracy: 0.8762\n",
            "Epoch 6/20\n",
            "157/157 [==============================] - 42s 268ms/step - loss: 0.0597 - accuracy: 0.9762 - val_loss: 0.5241 - val_accuracy: 0.8840\n",
            "Epoch 7/20\n",
            "157/157 [==============================] - 42s 269ms/step - loss: 0.0448 - accuracy: 0.9823 - val_loss: 0.5287 - val_accuracy: 0.8832\n",
            "Epoch 8/20\n",
            "157/157 [==============================] - 42s 268ms/step - loss: 0.0372 - accuracy: 0.9856 - val_loss: 0.6182 - val_accuracy: 0.8758\n",
            "Epoch 9/20\n",
            "157/157 [==============================] - 42s 268ms/step - loss: 0.0267 - accuracy: 0.9887 - val_loss: 0.6346 - val_accuracy: 0.8754\n",
            "Epoch 10/20\n",
            "157/157 [==============================] - 42s 268ms/step - loss: 0.0219 - accuracy: 0.9925 - val_loss: 0.6689 - val_accuracy: 0.8718\n",
            "Epoch 11/20\n",
            "157/157 [==============================] - 42s 269ms/step - loss: 0.0169 - accuracy: 0.9941 - val_loss: 0.7587 - val_accuracy: 0.8768\n",
            "Epoch 12/20\n",
            "157/157 [==============================] - 42s 269ms/step - loss: 0.0137 - accuracy: 0.9955 - val_loss: 0.8642 - val_accuracy: 0.8732\n",
            "Epoch 13/20\n",
            "157/157 [==============================] - 42s 269ms/step - loss: 0.0154 - accuracy: 0.9959 - val_loss: 0.9448 - val_accuracy: 0.8740\n",
            "Epoch 14/20\n",
            "157/157 [==============================] - 42s 269ms/step - loss: 0.0160 - accuracy: 0.9957 - val_loss: 0.9322 - val_accuracy: 0.8688\n",
            "Epoch 15/20\n",
            "157/157 [==============================] - 42s 268ms/step - loss: 0.0072 - accuracy: 0.9977 - val_loss: 1.0481 - val_accuracy: 0.8696\n",
            "Epoch 16/20\n",
            "157/157 [==============================] - 42s 269ms/step - loss: 0.0113 - accuracy: 0.9976 - val_loss: 0.8939 - val_accuracy: 0.8672\n",
            "Epoch 17/20\n",
            "157/157 [==============================] - 42s 270ms/step - loss: 0.0066 - accuracy: 0.9981 - val_loss: 1.0212 - val_accuracy: 0.8692\n",
            "Epoch 18/20\n",
            "157/157 [==============================] - 42s 268ms/step - loss: 0.0078 - accuracy: 0.9984 - val_loss: 1.0784 - val_accuracy: 0.8714\n",
            "Epoch 19/20\n",
            "157/157 [==============================] - 42s 268ms/step - loss: 0.0042 - accuracy: 0.9988 - val_loss: 1.2019 - val_accuracy: 0.8706\n",
            "Epoch 20/20\n",
            "157/157 [==============================] - 42s 268ms/step - loss: 0.0051 - accuracy: 0.9989 - val_loss: 1.1555 - val_accuracy: 0.8680\n"
          ],
          "name": "stdout"
        },
        {
          "output_type": "display_data",
          "data": {
            "image/png": "[encoded data removed]",
            "text/plain": [
              "<Figure size 432x288 with 1 Axes>"
            ]
          },
          "metadata": {
            "tags": [],
            "needs_background": "light"
          }
        },
        {
          "output_type": "stream",
          "text": [
            "196/196 [==============================] - 23s 118ms/step - loss: 1.5310 - accuracy: 0.8293\n",
            "Test acc: 0.829\n"
          ],
          "name": "stdout"
        }
      ]
    },
    {
      "cell_type": "code",
      "metadata": {
        "colab": {
          "base_uri": "https://localhost:8080/"
        },
        "id": "LhuXqxzh4rXv",
        "outputId": "360f6af9-c888-46ce-ceeb-115c37bf9ecc"
      },
      "source": [
        "for model in models:\n",
        "    model.get_test_accuracy()  "
      ],
      "execution_count": null,
      "outputs": [
        {
          "output_type": "stream",
          "text": [
            "196/196 [==============================] - 23s 117ms/step - loss: 1.5310 - accuracy: 0.8293\n",
            "Test acc: 0.829\n"
          ],
          "name": "stdout"
        }
      ]
    },
    {
      "cell_type": "code",
      "metadata": {
        "id": "cfOMsdWhxbus"
      },
      "source": [
        "models_with_model_name = {}\n",
        "for model in models:\n",
        "    models_with_model_name['using_positional_embedding'] = model\n"
      ],
      "execution_count": null,
      "outputs": []
    },
    {
      "cell_type": "code",
      "metadata": {
        "id": "aUyYGKKTxN56"
      },
      "source": [
        "positive_text = \"That was an excellent movie, I loved it.\"\n",
        "negative_text = \"That was a bad movie, I hated it.\"\n",
        "middle1_text = \"That was a bad movie, I loved it.\"\n",
        "middle2_text = \"That was an excellent movie, I hated it.\"\n",
        "minh_text = \"I hated it. That was a sad movie.\"\n",
        "\n",
        "sentences = [positive_text, negative_text, middle1_text, middle2_text, minh_text]"
      ],
      "execution_count": null,
      "outputs": []
    },
    {
      "cell_type": "code",
      "metadata": {
        "id": "dSpNVeL4xV0h"
      },
      "source": [
        "def convert_to_tensor(text):\n",
        "    return tf.convert_to_tensor([[text],])"
      ],
      "execution_count": null,
      "outputs": []
    },
    {
      "cell_type": "code",
      "metadata": {
        "id": "B3XFv3Kjxe4E"
      },
      "source": [
        "def predict_models(models, text, is_in_tensor: bool):\n",
        "    print(colored(text, 'green'))\n",
        "    for items in models.items():\n",
        "        model_name = items[0]\n",
        "        model = items[1]\n",
        "        if not is_in_tensor:\n",
        "            predictions = model.forward(convert_to_tensor(text))\n",
        "        else: \n",
        "            predictions = model.forward(text)\n",
        "        \n",
        "        print(f\"{model_name}: \", colored(f\"{float(predictions[0] * 100):.2f}\", 'red') + \" percent positive\" )"
      ],
      "execution_count": null,
      "outputs": []
    },
    {
      "cell_type": "code",
      "metadata": {
        "colab": {
          "base_uri": "https://localhost:8080/"
        },
        "id": "boiyJ-THxgn6",
        "outputId": "e57c6485-090d-47a7-a029-1054f55b0462"
      },
      "source": [
        "for sentence in sentences:\n",
        "    predict_models(models_with_model_name, sentence, True)\n",
        "    print(\"- - - - - - - -  - - - - - - - - - \")"
      ],
      "execution_count": null,
      "outputs": [
        {
          "output_type": "stream",
          "text": [
            "\u001b[32mThat was an excellent movie, I loved it.\u001b[0m\n",
            "using_positional_embedding:  \u001b[31m6.72\u001b[0m percent positive\n",
            "- - - - - - - -  - - - - - - - - - \n",
            "\u001b[32mThat was a bad movie, I hated it.\u001b[0m\n",
            "using_positional_embedding:  \u001b[31m0.00\u001b[0m percent positive\n",
            "- - - - - - - -  - - - - - - - - - \n",
            "\u001b[32mThat was a bad movie, I loved it.\u001b[0m\n",
            "using_positional_embedding:  \u001b[31m0.24\u001b[0m percent positive\n",
            "- - - - - - - -  - - - - - - - - - \n",
            "\u001b[32mThat was an excellent movie, I hated it.\u001b[0m\n",
            "using_positional_embedding:  \u001b[31m2.94\u001b[0m percent positive\n",
            "- - - - - - - -  - - - - - - - - - \n",
            "\u001b[32mI hated it. That was a sad movie.\u001b[0m\n",
            "using_positional_embedding:  \u001b[31m0.00\u001b[0m percent positive\n",
            "- - - - - - - -  - - - - - - - - - \n"
          ],
          "name": "stdout"
        }
      ]
    },
    {
      "cell_type": "code",
      "metadata": {
        "id": "SgyajQxPAxz-"
      },
      "source": [
        ""
      ],
      "execution_count": null,
      "outputs": []
    }
  ]
}